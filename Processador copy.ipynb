{
 "cells": [
  {
   "cell_type": "markdown",
   "id": "3440b7bf",
   "metadata": {},
   "source": [
    "![](PQ1.png)"
   ]
  },
  {
   "cell_type": "code",
   "execution_count": 1,
   "id": "c0d2d874",
   "metadata": {},
   "outputs": [
    {
     "name": "stdout",
     "output_type": "stream",
     "text": [
      "As funções básicas de uma UCP consistem, em:\n",
      "\u001b[1;29m#Função processamento:\u001b[0;29m se encarrega de realizar as atividades relacionadas com a efetiva execução de uma operação, isto é, \n",
      "processar, realizando cálculos lógicos, aritméticos, entre outros. Os principais componentes relacionados com essa função são a \n",
      "UAL(Unidade Aritmética e Lógica) e os registradores de uso geral que armazenam os dados\n",
      "\u001b[1;29m#Função controle:\u001b[0;29mse encarrega das atividades de busca, interpretação e controle da execução das instruções,bem como do controle \n",
      "da ação dos demais componentes do sistema de computação(memória, entrada/saída).Os principais componentes responsáveis por essa\n",
      "função são a Unidade de Controle(UC), o Decodificador, o Registrador de Instrução (RI), o Contador de Instrução(CI), o relógio, \n",
      "o Registrador de Endereço de Memória(REM) e o Registardor de Dados de Memória(RDM)\n"
     ]
    }
   ],
   "source": [
    "print('''As funções básicas de uma UCP consistem, em:\n",
    "\\033[1;29m#Função processamento:\\033[0;29m se encarrega de realizar as atividades relacionadas com a efetiva execução de uma operação, isto é, \n",
    "processar, realizando cálculos lógicos, aritméticos, entre outros. Os principais componentes relacionados com essa função são a \n",
    "UAL(Unidade Aritmética e Lógica) e os registradores de uso geral que armazenam os dados\n",
    "\\033[1;29m#Função controle:\\033[0;29mse encarrega das atividades de busca, interpretação e controle da execução das instruções,bem como do controle \n",
    "da ação dos demais componentes do sistema de computação(memória, entrada/saída).Os principais componentes responsáveis por essa\n",
    "função são a Unidade de Controle(UC), o Decodificador, o Registrador de Instrução (RI), o Contador de Instrução(CI), o relógio, \n",
    "o Registrador de Endereço de Memória(REM) e o Registardor de Dados de Memória(RDM)''')"
   ]
  },
  {
   "cell_type": "markdown",
   "id": "184f8566",
   "metadata": {},
   "source": [
    "![](PQ2.png)"
   ]
  },
  {
   "cell_type": "code",
   "execution_count": 2,
   "id": "12c52352",
   "metadata": {},
   "outputs": [
    {
     "name": "stdout",
     "output_type": "stream",
     "text": [
      "A Unidade Aritmética e Lógica(UAL) é o dispositivo responsável por executar efetivamente as operações matemáticas com os dados.\n",
      "Dentre essas operações, estão incluídas as seguintes:\n",
      "\u001b[4;29mAritméticas\u001b[0;29m → soma, subtração, multiplicação, divisão\n",
      "\u001b[4;29mLógicas\u001b[0;29m → AND, OR, XOR, NOT\n",
      "\u001b[4;29mOutras operações\u001b[0;29m → deslocamento à esquerda e à direita, decremento e incremento de 1 a um valor, complementos, etc.\n"
     ]
    }
   ],
   "source": [
    "print('''A Unidade Aritmética e Lógica(UAL) é o dispositivo responsável por executar efetivamente as operações matemáticas com os dados.\n",
    "Dentre essas operações, estão incluídas as seguintes:\n",
    "\\033[4;29mAritméticas\\033[0;29m → soma, subtração, multiplicação, divisão\n",
    "\\033[4;29mLógicas\\033[0;29m → AND, OR, XOR, NOT\n",
    "\\033[4;29mOutras operações\\033[0;29m → deslocamento à esquerda e à direita, decremento e incremento de 1 a um valor, complementos, etc.''')"
   ]
  },
  {
   "cell_type": "markdown",
   "id": "31eefce4",
   "metadata": {},
   "source": [
    "![](PQ5.png)"
   ]
  },
  {
   "cell_type": "code",
   "execution_count": 3,
   "id": "0c3a8d05",
   "metadata": {},
   "outputs": [
    {
     "name": "stdout",
     "output_type": "stream",
     "text": [
      "A Unidade de Controle(UC) é o dispositivo mais complexo do processador. Ele possui a lógica necessária para realizar a \n",
      "movimentação de dados e de instruções de e para o processador, através dos sinais de controle que emite em instantes de \n",
      "tempo determinados conforme uma programação prévia\n"
     ]
    }
   ],
   "source": [
    "print('''A Unidade de Controle(UC) é o dispositivo mais complexo do processador. Ele possui a lógica necessária para realizar a \n",
    "movimentação de dados e de instruções de e para o processador, através dos sinais de controle que emite em instantes de \n",
    "tempo determinados conforme uma programação prévia''')"
   ]
  },
  {
   "cell_type": "markdown",
   "id": "069128ee",
   "metadata": {},
   "source": [
    "![](PQ6.png)"
   ]
  },
  {
   "cell_type": "code",
   "execution_count": 4,
   "id": "bcd8a032",
   "metadata": {},
   "outputs": [
    {
     "name": "stdout",
     "output_type": "stream",
     "text": [
      "Não, uma vez que, pela arquitetura de Von Neuman, sabe-se que em um projeto que se usa uma unidade de processamento (CPU) e uma \n",
      "de armazenamento (Memória) para comportar, respectivamente, instruções e dados, os programas são armazenados no mesmo espaço de \n",
      "memória que os dados. Logo, como os registradores em questão armazenam o mesmo endereço, eles necessariamente devem possuir o \n",
      "mesmo tamanho.\n"
     ]
    }
   ],
   "source": [
    "print('''Não, uma vez que, pela arquitetura de Von Neuman, sabe-se que em um projeto que se usa uma unidade de processamento (CPU) e uma \n",
    "de armazenamento (Memória) para comportar, respectivamente, instruções e dados, os programas são armazenados no mesmo espaço de \n",
    "memória que os dados. Logo, como os registradores em questão armazenam o mesmo endereço, eles necessariamente devem possuir o \n",
    "mesmo tamanho.''')"
   ]
  },
  {
   "cell_type": "markdown",
   "id": "9721449d",
   "metadata": {},
   "source": [
    "![](PQ7.png)"
   ]
  },
  {
   "cell_type": "code",
   "execution_count": 5,
   "id": "50902d14",
   "metadata": {},
   "outputs": [
    {
     "name": "stdout",
     "output_type": "stream",
     "text": [
      "Sabendo que o Código de operação tem um tamanho fixo de 8 bits, há \u001b[1;29m2^8 = 256\u001b[0;29m instruções a serem executadas.\n",
      "→Considerando que as instruções \u001b[1;29mdo tipo A\u001b[0;29m vão de \u001b[1;34m0 até 84\u001b[0;29m\n",
      "#formato da instrução \u001b[1;29mdo tipo A\u001b[0;29m:\n",
      "| C.op.(8 bits) | op.(8 bits) |\n",
      "#Logo, uma instrução \u001b[1;29mdo tipo A\u001b[0;29m ocuparia 2 bytes dentro da MP. Portanto, as instruções ficariam 2 bytes a frente uma da outra.\n",
      "#Então, para o C.Op. entre 0 e 84, o CI sofreria um incremento de mais 2 unidades (CI ← CI + 2) após a busca de uma instrução.\n",
      "→Considerando que as instruções \u001b[1;29mdo tipo B\u001b[0;29m vão de \u001b[1;34m85 até 170\u001b[0;29m\n",
      "#formato da instrução \u001b[1;29mdo tipo B\u001b[0;29m:\n",
      "| C.op.(8 bits) | op.(24 bits = 8 bits + 8 bits + 8 bits) |\n",
      "#Logo, uma instrução \u001b[1;29mdo tipo B\u001b[0;29m ocuparia 4 bytes dentro da MP. Portanto, as instruções ficariam 4 bytes a frente uma da outra.\n",
      "#Então,para o C.Op. entre 85 e 170, o CI sofreria um incremento de mais 4 unidades (CI ← CI + 4) após a busca de uma instrução.\n",
      "→Considerando que as instruções \u001b[1;29mdo tipo C\u001b[0;29m vão de \u001b[1;34m171 até 255\u001b[0;29m\n",
      "#formato da instrução \u001b[1;29mdo tipo C\u001b[0;29m:\n",
      "| C.op.(8 bits) | op.(40 bits = 8 bits + 8 bits + 8 bits + 8 bits + 8 bits) |\n",
      "#Logo, uma instrução \u001b[1;29mdo tipo C\u001b[0;29m ocuparia 6 bytes dentro da MP. Portanto, as instruções ficariam 6 bytes a frente uma da outra.\n",
      "#Então,para o C.Op. entre 171 e 255,o CI sofreria um incremento de mais 6 unidades (CI ← CI + 6) após a busca de uma instrução.\n"
     ]
    }
   ],
   "source": [
    "#Total de instruções → totinst\n",
    "totinst = 2**8\n",
    "print(f'Sabendo que o Código de operação tem um tamanho fixo de 8 bits, há \\033[1;29m2^8 = {totinst}\\033[0;29m instruções a serem executadas.')\n",
    "#Instruções do tipo A → de 0 à 84\n",
    "print('''→Considerando que as instruções \\033[1;29mdo tipo A\\033[0;29m vão de \\033[1;34m0 até 84\\033[0;29m\n",
    "#formato da instrução \\033[1;29mdo tipo A\\033[0;29m:\n",
    "| C.op.(8 bits) | op.(8 bits) |\n",
    "#Logo, uma instrução \\033[1;29mdo tipo A\\033[0;29m ocuparia 2 bytes dentro da MP. Portanto, as instruções ficariam 2 bytes a frente uma da outra.\n",
    "#Então, para o C.Op. entre 0 e 84, o CI sofreria um incremento de mais 2 unidades (CI ← CI + 2) após a busca de uma instrução.''')\n",
    "#Instruções do tipo B → de 85 à 170\n",
    "print('''→Considerando que as instruções \\033[1;29mdo tipo B\\033[0;29m vão de \\033[1;34m85 até 170\\033[0;29m\n",
    "#formato da instrução \\033[1;29mdo tipo B\\033[0;29m:\n",
    "| C.op.(8 bits) | op.(24 bits = 8 bits + 8 bits + 8 bits) |\n",
    "#Logo, uma instrução \\033[1;29mdo tipo B\\033[0;29m ocuparia 4 bytes dentro da MP. Portanto, as instruções ficariam 4 bytes a frente uma da outra.\n",
    "#Então,para o C.Op. entre 85 e 170, o CI sofreria um incremento de mais 4 unidades (CI ← CI + 4) após a busca de uma instrução.''')\n",
    "#Instruções do tipo C → de 171 à 255\n",
    "print('''→Considerando que as instruções \\033[1;29mdo tipo C\\033[0;29m vão de \\033[1;34m171 até 255\\033[0;29m\n",
    "#formato da instrução \\033[1;29mdo tipo C\\033[0;29m:\n",
    "| C.op.(8 bits) | op.(40 bits = 8 bits + 8 bits + 8 bits + 8 bits + 8 bits) |\n",
    "#Logo, uma instrução \\033[1;29mdo tipo C\\033[0;29m ocuparia 6 bytes dentro da MP. Portanto, as instruções ficariam 6 bytes a frente uma da outra.\n",
    "#Então,para o C.Op. entre 171 e 255,o CI sofreria um incremento de mais 6 unidades (CI ← CI + 6) após a busca de uma instrução.''')"
   ]
  },
  {
   "cell_type": "markdown",
   "id": "6e88f061",
   "metadata": {},
   "source": [
    "![](PQ8.png)"
   ]
  },
  {
   "cell_type": "code",
   "execution_count": 6,
   "id": "14de33b0",
   "metadata": {},
   "outputs": [
    {
     "name": "stdout",
     "output_type": "stream",
     "text": [
      "Basta verificar o campo do Código de Operação. Se o Código de Operação não for um desvio, o CI deve fazer a busca no endereço \n",
      "seguinte (ou em N endereços seguintes, dependendo do valor do campo). Já para o caso do Código de Operação ser um desvio, o \n",
      "CI deve empregar o campo \"Operando\" como o endereço da próxima instrução\n"
     ]
    }
   ],
   "source": [
    "print('''Basta verificar o campo do Código de Operação. Se o Código de Operação não for um desvio, o CI deve fazer a busca no endereço \n",
    "seguinte (ou em N endereços seguintes, dependendo do valor do campo). Já para o caso do Código de Operação ser um desvio, o \n",
    "CI deve empregar o campo \"Operando\" como o endereço da próxima instrução''')"
   ]
  },
  {
   "cell_type": "markdown",
   "id": "7213b3b1",
   "metadata": {},
   "source": [
    "![](PQ9.png)"
   ]
  },
  {
   "cell_type": "code",
   "execution_count": 7,
   "id": "c8cf88f4",
   "metadata": {},
   "outputs": [
    {
     "name": "stdout",
     "output_type": "stream",
     "text": [
      "O registrador cujo conteúdo controla a sequência das instruções de um progrma é o Contador de Instruções (CI) e ele se localiza \n",
      "dentro da CPU\n"
     ]
    }
   ],
   "source": [
    "print('''O registrador cujo conteúdo controla a sequência das instruções de um progrma é o Contador de Instruções (CI) e ele se localiza \n",
    "dentro da CPU''')"
   ]
  },
  {
   "cell_type": "markdown",
   "id": "22cf4dd6",
   "metadata": {},
   "source": [
    "![](PQ10.png)"
   ]
  },
  {
   "cell_type": "code",
   "execution_count": 8,
   "id": "6db10783",
   "metadata": {},
   "outputs": [
    {
     "name": "stdout",
     "output_type": "stream",
     "text": [
      "\u001b[1;29mINSTRUÇÃO\u001b[0;29m\t\t\t\u001b[1;29mDESCRIÇÃO\u001b[0;29m\t\t\t\t\u001b[1;29mCICLOS\u001b[0;29m\n",
      "----------------------------------------------------------------------------------------------\n",
      "ADD Op.\t\t\tR0 ← R0 + (Op.)\t\t\t1 Leitura + 1 Leitura = \u001b[1;34m2\u001b[0;29m\n",
      "SUB Op.\t\t\tR0 ← R0 - (Op.)\t\t\t1 Leitura + 1 Leitura = \u001b[1;34m2\u001b[0;29m\n",
      "ADD Op.1, Op.2\t\t(Op.1) ← (Op.1) + (Op.2)\t1 Leitura + 2 Leituras + 1 Escrita = \u001b[1;34m4\u001b[0;29m\n",
      "INCR\t\t\tR0 ← R0 + 1\t\t\t1 Leitura = \u001b[1;34m1\u001b[0;29m\n",
      "LDA Op.\t\t\tR0 ← (Op.)\t\t\t1 Leitura + 1 Leitura = \u001b[1;34m2\u001b[0;29m\n",
      "----------------------------------------------------------------------------------------------\n",
      "\u001b[1;29mTOTAL DE CICLOS: \u001b[1;34m2 + 2 + 4 + 1 + 2 = 11\u001b[0;29m\n"
     ]
    }
   ],
   "source": [
    "print('\\033[1;29mINSTRUÇÃO\\033[0;29m\\t\\t\\t\\033[1;29mDESCRIÇÃO\\033[0;29m\\t\\t\\t\\t\\033[1;29mCICLOS\\033[0;29m')\n",
    "print('-'*94)\n",
    "print('''ADD Op.\\t\\t\\tR0 ← R0 + (Op.)\\t\\t\\t1 Leitura + 1 Leitura = \\033[1;34m2\\033[0;29m\n",
    "SUB Op.\\t\\t\\tR0 ← R0 - (Op.)\\t\\t\\t1 Leitura + 1 Leitura = \\033[1;34m2\\033[0;29m\n",
    "ADD Op.1, Op.2\\t\\t(Op.1) ← (Op.1) + (Op.2)\\t1 Leitura + 2 Leituras + 1 Escrita = \\033[1;34m4\\033[0;29m\n",
    "INCR\\t\\t\\tR0 ← R0 + 1\\t\\t\\t1 Leitura = \\033[1;34m1\\033[0;29m\n",
    "LDA Op.\\t\\t\\tR0 ← (Op.)\\t\\t\\t1 Leitura + 1 Leitura = \\033[1;34m2\\033[0;29m''')\n",
    "print('-'*94)\n",
    "print(f'\\033[1;29mTOTAL DE CICLOS: \\033[1;34m2 + 2 + 4 + 1 + 2 = {2 + 2 + 4 + 1 + 2}\\033[0;29m')"
   ]
  },
  {
   "cell_type": "markdown",
   "id": "3cd4dd7a",
   "metadata": {},
   "source": [
    "![](PQ11.png)"
   ]
  },
  {
   "cell_type": "code",
   "execution_count": 9,
   "id": "844ccd21",
   "metadata": {},
   "outputs": [
    {
     "name": "stdout",
     "output_type": "stream",
     "text": [
      "O registrador cujo conteúdo determina a capacidade de memória de um computador é o REM (Registrador de Endereços de Memória), \n",
      "pois ele que contém a quantidade de bits necessárias para endereçar uma célula na MP. Portanto, dependendo do tamanho do REM, \n",
      "a memória do computador vai ter uma determinada quantidade de células\n"
     ]
    }
   ],
   "source": [
    "print('''O registrador cujo conteúdo determina a capacidade de memória de um computador é o REM (Registrador de Endereços de Memória), \n",
    "pois ele que contém a quantidade de bits necessárias para endereçar uma célula na MP. Portanto, dependendo do tamanho do REM, \n",
    "a memória do computador vai ter uma determinada quantidade de células''')"
   ]
  },
  {
   "cell_type": "markdown",
   "id": "476bb728",
   "metadata": {},
   "source": [
    "![](PQ12.png)"
   ]
  },
  {
   "cell_type": "code",
   "execution_count": 10,
   "id": "b8629f6e",
   "metadata": {},
   "outputs": [
    {
     "name": "stdout",
     "output_type": "stream",
     "text": [
      "O tamanho dos registradores internos (Reg) da UCP é igual ao do RDM e este, por sua vez, é igual ao C.op. + Op.\n",
      "Sabendo que Op. tem o mesmo tamanho do CI e que o CI é igual a quantidade de bits necessários para se endereçar uma célula na \n",
      "memória,é possível descobrir o operando e,consequentemente, o RDM, pois já se sabe o Código de operação(256 → 2^8 → C.op. = 8).\n",
      "Por fim, para descobrir a quantidade total de bits da memória, basta multiplicar a quantidade de células da memória pela \n",
      "quantidade de bits que há em cada célula.\n",
      "Assim, tem-se:\n",
      "\u001b[1;29mR0:\u001b[0;29m 24 bits\t\t\u001b[1;29mCI:\u001b[0;29m 16 bits\t\t\u001b[1;29mRDM:\u001b[0;29m 24 bits\t\t\u001b[1;29mTotal de bits da memória:\u001b[0;29m 1572864 bits ou 1.5 Mb\n"
     ]
    }
   ],
   "source": [
    "from math import log2\n",
    "CI = log2(64*2**10) #Contador de Instrução \n",
    "C_op = log2(256) #Código de operação\n",
    "#Como o campo operando tem a mesma quantidade de bits de CI, a quantidade de bits do RDM é:\n",
    "RDM = C_op + CI\n",
    "#Como os registradores gerais da UCP tem o mesmo tamanho do RDM (visto que eles armazenam os dados mandados pro RDM). Logo, eles são iguais ao RDM\n",
    "Reg = RDM\n",
    "#Como o conteúdo do RDM é um determinado dado/instrução de uma célula e o tamanho da palavra é o mesmo da célula, o total de bits dessa memória é:\n",
    "totbitsM = 64*2**10*RDM\n",
    "print(f'''O tamanho dos registradores internos (Reg) da UCP é igual ao do RDM e este, por sua vez, é igual ao C.op. + Op.\n",
    "Sabendo que Op. tem o mesmo tamanho do CI e que o CI é igual a quantidade de bits necessários para se endereçar uma célula na \n",
    "memória,é possível descobrir o operando e,consequentemente, o RDM, pois já se sabe o Código de operação(256 → 2^8 → C.op. = 8).\n",
    "Por fim, para descobrir a quantidade total de bits da memória, basta multiplicar a quantidade de células da memória pela \n",
    "quantidade de bits que há em cada célula.\n",
    "Assim, tem-se:\n",
    "\\033[1;29mR0:\\033[0;29m {Reg:.0f} bits\\t\\t\\033[1;29mCI:\\033[0;29m {CI:.0f} bits\\t\\t\\033[1;29mRDM:\\033[0;29m {RDM:.0f} bits\\t\\t\\033[1;29mTotal de bits da memória:\\033[0;29m {totbitsM:.0f} bits ou {totbitsM/2**20} Mb''')"
   ]
  },
  {
   "cell_type": "markdown",
   "id": "e7cf2814",
   "metadata": {},
   "source": [
    "![](PQ13.png)"
   ]
  },
  {
   "cell_type": "code",
   "execution_count": 11,
   "id": "1873ef3f",
   "metadata": {},
   "outputs": [
    {
     "name": "stdout",
     "output_type": "stream",
     "text": [
      "\u001b[1;29ma) RDM:\u001b[0;29m 20 bits (mesmo tamanho do BD)\t\t\u001b[1;29mCI:\u001b[0;29m 16 bits (mesmo tamanho do REM)\n",
      "\u001b[1;29mb)\u001b[0;29mSim, seria possível aumentar a capacidade de armazenamento dessa memória, uma vez que o tamanho do REM é de 16 bits.Portanto, \n",
      "ele consegue endereçar até 64K células. Assim, como a placa já tem 4K, a capacidade da memória poderia ser expandida em 60K \n",
      "células\n",
      "\u001b[1;29mc)\u001b[0;29mComo o REM tem 16 bits, o operando também deverá ter 16 bits. Além disso, como o RDM tem 20 bits, o RI também deverá ter 20 \n",
      "bits, sendo 4 bits para o código de operação (20 - 16) e 16 para o operando. Portanto, a quantidade máxima de instruções de \n",
      "máquina que poderia existir nesse computador é \u001b[1;34m2^4 = 16\u001b[0;29m\n"
     ]
    }
   ],
   "source": [
    "print('\\033[1;29ma) RDM:\\033[0;29m 20 bits (mesmo tamanho do BD)\\t\\t\\033[1;29mCI:\\033[0;29m 16 bits (mesmo tamanho do REM)')\n",
    "print(f'''\\033[1;29mb)\\033[0;29mSim, seria possível aumentar a capacidade de armazenamento dessa memória, uma vez que o tamanho do REM é de 16 bits.Portanto, \n",
    "ele consegue endereçar até {2**6}K células. Assim, como a placa já tem 4K, a capacidade da memória poderia ser expandida em 60K \n",
    "células''')\n",
    "print(f'''\\033[1;29mc)\\033[0;29mComo o REM tem 16 bits, o operando também deverá ter 16 bits. Além disso, como o RDM tem 20 bits, o RI também deverá ter 20 \n",
    "bits, sendo 4 bits para o código de operação (20 - 16) e 16 para o operando. Portanto, a quantidade máxima de instruções de \n",
    "máquina que poderia existir nesse computador é \\033[1;34m2^4 = {2**4}\\033[0;29m''')"
   ]
  },
  {
   "cell_type": "markdown",
   "id": "0591f8c1",
   "metadata": {},
   "source": [
    "![](PQ14.png)"
   ]
  },
  {
   "cell_type": "code",
   "execution_count": 12,
   "id": "a6bae24a",
   "metadata": {},
   "outputs": [
    {
     "name": "stdout",
     "output_type": "stream",
     "text": [
      "\u001b[1;29ma)REM:\u001b[0;29m 9 bits\t\t\u001b[1;29mRDM: \u001b[0;29m16 bits\t\t\u001b[1;29mRI:\u001b[0;29m 16 bits\t\t\u001b[1;29mCI:\u001b[0;29m 9 bits\n",
      "\u001b[1;29mb)\u001b[0;29mA capacidade da memória em bytes é de 1024 ou 1 KB\n",
      "\u001b[1;29mc)\u001b[0;29mPoderiam ser criadas 128 novas instruções\n"
     ]
    }
   ],
   "source": [
    "from math import log2\n",
    "#Letra a)\n",
    "REM = log2(512)\n",
    "RDM = log2(128) + REM\n",
    "RI = RDM\n",
    "CI = REM\n",
    "#Letra b)\n",
    "capM = 512*RDM\n",
    "print(f'''\\033[1;29ma)REM:\\033[0;29m {REM:.0f} bits\\t\\t\\033[1;29mRDM: \\033[0;29m{RDM:.0f} bits\\t\\t\\033[1;29mRI:\\033[0;29m {RI:.0f} bits\\t\\t\\033[1;29mCI:\\033[0;29m {CI:.0f} bits''')\n",
    "print(f'\\033[1;29mb)\\033[0;29mA capacidade da memória em bytes é de {capM/8:.0f} ou {(capM/8)/2**10:.0f} KB')\n",
    "print(f'\\033[1;29mc)\\033[0;29mPoderiam ser criadas {2**(17-REM) - 2**(16-REM):.0f} novas instruções')"
   ]
  },
  {
   "cell_type": "markdown",
   "id": "29ebbe55",
   "metadata": {},
   "source": [
    "![](PQ15.png)"
   ]
  },
  {
   "cell_type": "code",
   "execution_count": 13,
   "id": "071d676d",
   "metadata": {},
   "outputs": [
    {
     "name": "stdout",
     "output_type": "stream",
     "text": [
      "Ao tamanho da palavra do processador, isto é, ao número de bits que o processador é capaz de manipular.Portanto, isso se refere \n",
      "ao número de bits dos registradores internos,a quantidade de bits que a UAL é capaz de processar e ao tamanho do BD.Já a célula \n",
      "é mais utilizada para se referir à memória.\n"
     ]
    }
   ],
   "source": [
    "print(f'''Ao tamanho da palavra do processador, isto é, ao número de bits que o processador é capaz de manipular.Portanto, isso se refere \n",
    "ao número de bits dos registradores internos,a quantidade de bits que a UAL é capaz de processar e ao tamanho do BD.Já a célula \n",
    "é mais utilizada para se referir à memória.''')"
   ]
  },
  {
   "cell_type": "markdown",
   "id": "67a23d2d",
   "metadata": {},
   "source": [
    "![](PQ16.png)"
   ]
  },
  {
   "cell_type": "code",
   "execution_count": 14,
   "id": "fe6f6ee1",
   "metadata": {},
   "outputs": [
    {
     "name": "stdout",
     "output_type": "stream",
     "text": [
      "\u001b[1;29ma)\u001b[0;29mO tamanho da instrução é: 38 bits\n",
      "\u001b[1;29mb)\u001b[0;29mO tamanho do campo do C.Op. é: 6 bits\n",
      "\u001b[1;29mc)\u001b[0;29mA memória pode ser expandida até 64K células de 38 bits. Como a configuração básica é de 16Kcélulas, podem ser acrescentadas:\n",
      "64Kcélulas de 38 bits - 16Kcélulas de 38 bits = 48K células de 38 bits\n"
     ]
    }
   ],
   "source": [
    "#Respondendo a letra a:\n",
    "RI = 38\n",
    "CI = 16\n",
    "#Respondendo a letra b:\n",
    "C_op = 38 - 2*16\n",
    "#Respondendo a letra c:             \n",
    "memoria = 2**16 #células de 38 bits\n",
    "configBasica = 16*2**10 #células de 38 bits\n",
    "print(f'\\033[1;29ma)\\033[0;29mO tamanho da instrução é: {RI} bits')\n",
    "print(f'\\033[1;29mb)\\033[0;29mO tamanho do campo do C.Op. é: {C_op} bits')\n",
    "print(f'''\\033[1;29mc)\\033[0;29mA memória pode ser expandida até {memoria/2**10:.0f}K células de 38 bits. Como a configuração básica é de 16Kcélulas, podem ser acrescentadas:\n",
    "64Kcélulas de 38 bits - 16Kcélulas de 38 bits = {(memoria - configBasica)/2**10:.0f}K células de 38 bits''')"
   ]
  },
  {
   "cell_type": "markdown",
   "id": "f2340be8",
   "metadata": {},
   "source": [
    "![](PQ17.png)"
   ]
  },
  {
   "cell_type": "code",
   "execution_count": 15,
   "id": "9f4cd2da",
   "metadata": {},
   "outputs": [
    {
     "name": "stdout",
     "output_type": "stream",
     "text": [
      "\u001b[1;29ma)\u001b[0;29mA capacidade total da memória é de 4096 bits ou 4 Kbits\n",
      "\u001b[1;29mb)\u001b[0;29mA instrução que será executada é a \u001b[1;34mCB05\u001b[0;29m\n",
      "\u001b[1;29mc)\u001b[0;29mO conteúdo do RDM, ao final do ciclo de leitura, será: \u001b[1;34m4040\u001b[0;29m\n"
     ]
    }
   ],
   "source": [
    "#Respondendo a letra a:\n",
    "capMemoria = 256*16\n",
    "print(f'''\\033[1;29ma)\\033[0;29mA capacidade total da memória é de {capMemoria} bits ou {capMemoria/2**10:.0f} Kbits''')\n",
    "#Respondendo a letra b:\n",
    "print('''\\033[1;29mb)\\033[0;29mA instrução que será executada é a \\033[1;34mCB05\\033[0;29m''')\n",
    "#Respondendo a letra c:\n",
    "print('''\\033[1;29mc)\\033[0;29mO conteúdo do RDM, ao final do ciclo de leitura, será: \\033[1;34m4040\\033[0;29m''')"
   ]
  },
  {
   "cell_type": "markdown",
   "id": "91c61ae3",
   "metadata": {},
   "source": [
    "![](PQ18.png)"
   ]
  },
  {
   "cell_type": "code",
   "execution_count": 16,
   "id": "a1ab54b2",
   "metadata": {},
   "outputs": [
    {
     "name": "stdout",
     "output_type": "stream",
     "text": [
      "O processador sequencial executa uma instrução de cada vez, isto é, ele só executa a próxima quando ele finaliza completamente \n",
      "a anterior. Já o processador pipeline executa várias instruções de maneira simultânea. Assim, cada etapa da instrução acaba \n",
      "sendo executada de modo independente uma da outra.Consequentemente,várias etapas podem estar sendo executadas em um determinado \n",
      "intervalo de tempo, porém em etapas diferentes uma da outra.\n"
     ]
    }
   ],
   "source": [
    "print('''O processador sequencial executa uma instrução de cada vez, isto é, ele só executa a próxima quando ele finaliza completamente \n",
    "a anterior. Já o processador pipeline executa várias instruções de maneira simultânea. Assim, cada etapa da instrução acaba \n",
    "sendo executada de modo independente uma da outra.Consequentemente,várias etapas podem estar sendo executadas em um determinado \n",
    "intervalo de tempo, porém em etapas diferentes uma da outra.''')"
   ]
  },
  {
   "cell_type": "markdown",
   "id": "1b1a6657",
   "metadata": {},
   "source": [
    "![](PQ19.png)"
   ]
  },
  {
   "cell_type": "code",
   "execution_count": 17,
   "id": "e181821b",
   "metadata": {},
   "outputs": [
    {
     "name": "stdout",
     "output_type": "stream",
     "text": [
      "\u001b[1;29ma)\u001b[0;29mComo o CI tem a mesma quantidade de bits do REM e do campo operando (pois é o tamanho do BE), conclui-se que o Op. é igual a\n",
      "32 bits\n",
      "\u001b[1;29mb)\u001b[0;29mO valor do espaço de endereçamento da memória desse sistema é de 2^32 = 4294967296 endereços ou 4G de endereços, que contêm \n",
      "células de 32 bits\n",
      "\u001b[1;29mc)\u001b[0;29mComo há 60 registradores de inteiros, serão necessários, no mínimo, 6 bits para indicá-los, pois 2^6 = 64\n"
     ]
    }
   ],
   "source": [
    "from math import log2\n",
    "#Resolvendo a letra a:\n",
    "print('''\\033[1;29ma)\\033[0;29mComo o CI tem a mesma quantidade de bits do REM e do campo operando (pois é o tamanho do BE), conclui-se que o Op. é igual a\n",
    "32 bits''')\n",
    "#Resolvendo a letra b:\n",
    "print(f'''\\033[1;29mb)\\033[0;29mO valor do espaço de endereçamento da memória desse sistema é de 2^32 = {2**32:.0f} endereços ou {(2**32)/2**30:.0f}G de endereços, que contêm \n",
    "células de 32 bits''')\n",
    "#Resolvendo a letra c:\n",
    "print(f'''\\033[1;29mc)\\033[0;29mComo há 60 registradores de inteiros, serão necessários, no mínimo, {log2(64):.0f} bits para indicá-los, pois 2^6 = 64''')"
   ]
  },
  {
   "cell_type": "markdown",
   "id": "f62df3d5",
   "metadata": {},
   "source": [
    "![](PQ20.png)"
   ]
  },
  {
   "cell_type": "code",
   "execution_count": 18,
   "id": "2abea65a",
   "metadata": {},
   "outputs": [
    {
     "name": "stdout",
     "output_type": "stream",
     "text": [
      "Como há 197 instruções para serem decodificadas, serão necessários 8 bits para identificá-las (2^8 = 256) e restarão \n",
      "256 - 197 = 59 saídas que ficaram inutilizadas. Portanto, esse decodificador ficará com 8 bits de entrada e 256 saídas, sendo \n",
      "59 delas inutilizadas.\n",
      "\n",
      "Ilustrando, ficaria da seguinte maneira: \n",
      "Entrada (8 bits) → │DECODIFICADOR│ → Saída (197 usadas + 59 inutilizadas = 256)\n"
     ]
    }
   ],
   "source": [
    "print(f'''Como há 197 instruções para serem decodificadas, serão necessários 8 bits para identificá-las (2^8 = 256) e restarão \n",
    "256 - 197 = {256-197} saídas que ficaram inutilizadas. Portanto, esse decodificador ficará com 8 bits de entrada e 256 saídas, sendo \n",
    "59 delas inutilizadas.''')\n",
    "print('\\nIlustrando, ficaria da seguinte maneira: ')\n",
    "print('Entrada (8 bits) → │DECODIFICADOR│ → Saída (197 usadas + 59 inutilizadas = 256)')"
   ]
  },
  {
   "cell_type": "markdown",
   "id": "a416d9a7",
   "metadata": {},
   "source": [
    "![](PQ22.png)"
   ]
  },
  {
   "cell_type": "code",
   "execution_count": 19,
   "id": "4d7376e9",
   "metadata": {},
   "outputs": [
    {
     "name": "stdout",
     "output_type": "stream",
     "text": [
      "\u001b[1;29ma)\u001b[0;29mComo a instrução tem o mesmo tamanho do RI (visto que ela é armazenada nele), a instrução tem um tamanho de 32 bits.\n",
      "Desses 32 bits, 16 bits são para o operando, 4 bits são para o Reg. e o restante é para o C.Op.. Assim, a largura do campo \n",
      "C.Op. é igual a 12 bits\n",
      "\u001b[1;29mb)\u001b[0;29mA largura do campo Reg será de 4 bits\n",
      "\u001b[1;29mc)\n",
      "    C.Op\t\tSIGLA ASSEMBLY\t\t\tDESCRIÇÃO\t\t\tACESSOS\n",
      "    \u001b[0;29m---------------------------------------------------------------------------------------------\n",
      "    11\t\t\tJP R. Op.\t\tSe R > 0, então CI ← Op.\t\t1 acesso\n",
      "    21\t\t\tSUB R. Op.\t\t(R) ← (R) - Op.\t\t\t\t2 acessos\n",
      "    ---------------------------------------------------------------------------------------------\n",
      "    \u001b[1;29mEXPLICAÇÃO:\u001b[0;29m \n",
      "    →Em C.Op. = 11 é feito apenas um acesso à memória para buscar justamente a instrução\n",
      "    →Em C.Op. = 21 são feitos 2 acessos à memória : um para buscar a instrução e outro para buscar o conteúdo do Op. para subtrair de \n",
      "    (R)\n"
     ]
    }
   ],
   "source": [
    "from math import log2\n",
    "#Resolvendo a letra a:\n",
    "RI = 4*8 #bits\n",
    "Reg = log2(16) #bits\n",
    "CI = Op = 4*4 #bits\n",
    "C_Op = RI - (Reg + Op)\n",
    "print(f'''\\033[1;29ma)\\033[0;29mComo a instrução tem o mesmo tamanho do RI (visto que ela é armazenada nele), a instrução tem um tamanho de {RI} bits.\n",
    "Desses {RI} bits, {Op:.0f} bits são para o operando, {Reg:.0f} bits são para o Reg. e o restante é para o C.Op.. Assim, a largura do campo \n",
    "C.Op. é igual a {C_Op:.0f} bits''')\n",
    "#Resolvendo a letra b:\n",
    "print(f'''\\033[1;29mb)\\033[0;29mA largura do campo Reg será de {Reg:.0f} bits''')\n",
    "#Resolvendo a letra c:\n",
    "#Em C.Op. = 11 é feito apenas um acesso à memória para buscar justamente a instrução\n",
    "#Em C.Op. = 21 são feitos 2 acessos à memória : um para buscar a instrução e outro para buscar o conteúdo do Op. para subtrair de Reg.\n",
    "print(f'''\\033[1;29mc)\n",
    "    C.Op\\t\\tSIGLA ASSEMBLY\\t\\t\\tDESCRIÇÃO\\t\\t\\tACESSOS\n",
    "    \\033[0;29m{'-'*93}\n",
    "    11\\t\\t\\tJP R. Op.\\t\\tSe R > 0, então CI ← Op.\\t\\t1 acesso\n",
    "    21\\t\\t\\tSUB R. Op.\\t\\t(R) ← (R) - Op.\\t\\t\\t\\t2 acessos\n",
    "    {'-'*93}\n",
    "    \\033[1;29mEXPLICAÇÃO:\\033[0;29m \n",
    "    →Em C.Op. = 11 é feito apenas um acesso à memória para buscar justamente a instrução\n",
    "    →Em C.Op. = 21 são feitos 2 acessos à memória : um para buscar a instrução e outro para buscar o conteúdo do Op. para subtrair de \n",
    "    (R)''')"
   ]
  }
 ],
 "metadata": {
  "interpreter": {
   "hash": "3bd6d911f1576b0be2ac96b07a13fdaa0bb6a3771ce68bd319560bf46fbd7117"
  },
  "kernelspec": {
   "display_name": "Python 3",
   "language": "python",
   "name": "python3"
  },
  "language_info": {
   "codemirror_mode": {
    "name": "ipython",
    "version": 3
   },
   "file_extension": ".py",
   "mimetype": "text/x-python",
   "name": "python",
   "nbconvert_exporter": "python",
   "pygments_lexer": "ipython3",
   "version": "3.8.8"
  }
 },
 "nbformat": 4,
 "nbformat_minor": 5
}
